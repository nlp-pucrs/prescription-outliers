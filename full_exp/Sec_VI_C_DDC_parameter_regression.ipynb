{
 "cells": [
  {
   "cell_type": "code",
   "execution_count": 1,
   "metadata": {},
   "outputs": [],
   "source": [
    "%matplotlib inline\n",
    "import sys\n",
    "import outliers\n",
    "import pandas as pd\n",
    "import matplotlib.pyplot as plt\n",
    "from outliers import ddc_outlier\n",
    "from sklearn.preprocessing import normalize\n",
    "from sklearn.metrics import f1_score\n",
    "import numpy as np\n",
    "\n",
    "import multiprocessing\n",
    "import tempfile\n",
    "import os\n",
    "from joblib import Parallel, delayed\n",
    "from joblib.pool import has_shareable_memory\n",
    "cpuN = multiprocessing.cpu_count()\n",
    "\n",
    "import warnings\n",
    "warnings.filterwarnings('ignore')\n",
    "\n",
    "prescription = pd.read_csv('data/prescriptions2017_clean.csv.gz', compression='gzip')"
   ]
  },
  {
   "cell_type": "code",
   "execution_count": 2,
   "metadata": {},
   "outputs": [
    {
     "data": {
      "text/plain": [
       "(73,)"
      ]
     },
     "execution_count": 2,
     "metadata": {},
     "output_type": "execute_result"
    }
   ],
   "source": [
    "medications = outliers.getOverdoseMedications(prescription)\n",
    "medications.shape"
   ]
  },
  {
   "cell_type": "code",
   "execution_count": 3,
   "metadata": {},
   "outputs": [],
   "source": [
    "def computeClf(X,Y,epsilon,scores):\n",
    "    clf = ddc_outlier(alpha=epsilon,metric='jaccard')\n",
    "    clf.fit(X)\n",
    "    y_pred = clf.predict(X)\n",
    "\n",
    "    y_pred[y_pred == 1] = 0\n",
    "    y_pred[y_pred == -1] = 1\n",
    "\n",
    "    f = f1_score(y_pred, Y)\n",
    "    scores[int(epsilon*100)] = f"
   ]
  },
  {
   "cell_type": "code",
   "execution_count": 88,
   "metadata": {
    "scrolled": false
   },
   "outputs": [
    {
     "name": "stdout",
     "output_type": "stream",
     "text": [
      "ACICLOVIR 200 mg CP 2359 0.01 0.0\n",
      "ALBENDAZOL 400 mg CP 2660 0.01 0.0\n",
      "ALOPURINOL 100 mg CP 4729 0.01 0.0\n",
      "AMPICILINA + SULBACTAM 2 g + 1 g SOL INJ 7226 0.18 0.761768901569\n",
      "ANLODIPINO 10 mg CP 15584 0.08 0.971014492754\n",
      "ANLODIPINO 5 mg CP 10392 0.02 0.684931506849\n",
      "BISACODIL 5 mg CP 9483 0.01 0.258064516129\n",
      "CARBAMAZEPINA 20 mg/ml SUSP ORAL 1511 0.45 0.387096774194\n",
      "CEFEPIMA 2 g SOL INJ - SEM DILUENTE 1460 0.05 0.647058823529\n",
      "CEFTRIAXONA 1g SOL INJ IV - SEM DILUENTE 1339 0.06 0.622222222222\n",
      "CETOPROFENO 100 mg SOL INJ IV 10907 0.19 0.12893982808\n",
      "CLORETO DE POTASSIO 6 % (0,8 mEq/ml) SOL AQ C/ADOCANTE ARTIFICIAL - FR. 100 A 200 ml 5593 0.28 0.604215456674\n",
      "DEXAMETASONA 10 mg/2,5 ml SOL INJ FRASCO-AMPOLA 3286 0.03 0.5\n",
      "DIAZEPAM 10 mg CP 9030 0.02 0.313253012048\n",
      "DICLOFENACO 50 mg CP 5559 0.02 0.903225806452\n",
      "DIPIRONA 1 g/2 ml SOL INJ 163027 0.06 0.57730032695\n",
      "DIPIRONA 500 mg/ml SOL ORAL - com conta-gotas acoplado na tampa do frasco ou na embalagem do medicamento 28967 0.39 0.556057494867\n",
      "DOXAZOSINA 2 mg CP 6280 0.03 0.826086956522\n",
      "ENALAPRIL 20 mg CP 9585 0.02 0.392156862745\n",
      "ENOXAPARINA 60 mg/0,6 ml - SERINGA GRADUADA PRE-PREENCHIDA 7666 0.01 0.0\n",
      "ENOXAPARINA 80 mg/0,8 ml - SERINGA GRADUADA PRE-PREENCHIDA 3300 0.09 0.835443037975\n",
      "FENITOINA 250 mg/5 ml SOL INJ 2467 0.04 0.727272727273\n",
      "GLUCONATO DE CALCIO 10 % (0,465 mEq/ml) 10 ml SOL INJ 2086 0.1 0.592592592593\n",
      "HIDRALAZINA 50 mg CP 6056 0.03 0.155172413793\n",
      "HIDROCLOROTIAZIDA 50 mg CP 1084 0.05 0.414634146341\n",
      "HIDROXIDO DE MAGNESIO 8 % SUSP ORAL 1777 0.1 0.0815047021944\n",
      "HIOSCINA (BUTILBROMETO DE ESCOPOLAMINA) 20 mg/ml SOL INJ 22067 0.18 0.885043263288\n",
      "L-TIROXINA 100 mcg CP 3791 0.06 0.793650793651\n",
      "LACTULOSE 667 mg/ml SOL ORAL 33395 0.02 0.742268041237\n",
      "LOPERAMIDA 2 mg CP 4957 0.11 0.25\n",
      "LOSARTAN 50 mg CP 14929 0.01 0.0\n",
      "MEROPENEM 1 g SOL INJ 14472 0.49 0.181240063593\n",
      "MORFINA 10 mg/ml SOL ORAL - com conta-gotas acoplado na tampa do frasco ou na embalagem do medicamento 5362 0.23 0.577142857143\n",
      "OLEO MINERAL LIQ 100 ml 11930 0.05 0.544169611307\n",
      "ONDANSETRONA 8 mg/4 ml SOL INJ IV 24905 0.02 0.838709677419\n",
      "PARACETAMOL 200 mg / ml SOL ORAL - com conta-gotas acoplado na tampa do frasco ou na embalagem do medicamento 10811 0.02 0.185185185185\n",
      "PARACETAMOL 500 mg CP 82749 0.06 0.241415192508\n",
      "POLIMIXINA B 500.000 UI SOL INJ 7257 0.58 0.396265560166\n",
      "PROMETAZINA 50 mg/2 ml SOL INJ 4311 0.34 0.16\n",
      "RIFAMPICINA + ISONIAZIDA + PIRAZINAMIDA + ETAMBUTOL 150 mg + 75 mg + 400 mg + 275 mg CP 3678 0.03 0.814814814815\n",
      "RISPERIDONA 2 mg CP 5431 0.35 0.0731707317073\n",
      "SULFAMETOXAZOL + TRIMETOPRIMA 400 mg + 80 mg / 5 ml SOL INJ 2052 0.26 0.181052631579\n",
      "SULFAMETOXAZOL + TRIMETOPRIMA 800 mg + 160 mg CP 7086 0.1 0.453416149068\n",
      "SULFATO DE MAGNESIO 10% 10 ml 1645 0.34 0.477419354839\n",
      "TENOFOVIR 300mg + LAMIVUDINA 300mg CP 4518 0.02 0.8\n",
      "TRAMADOL 50mg/ml 1ml SOL INJ 21006 0.01 0.0\n",
      "VARFARINA 5 mg CP 6419 0.14 0.94776119403\n",
      "VITAMINAS DO COMPLEXO B CP 5766 0.09 0.669064748201\n"
     ]
    },
    {
     "data": {
      "text/plain": [
       "(23, 22)"
      ]
     },
     "execution_count": 88,
     "metadata": {},
     "output_type": "execute_result"
    }
   ],
   "source": [
    "regression_data = pd.DataFrame()\n",
    "\n",
    "folder = tempfile.mkdtemp()\n",
    "score_name = os.path.join(folder, 'score')\n",
    "\n",
    "for med in np.asarray(medications):\n",
    "\n",
    "    X, Y = outliers.getPrescriptions(prescription, med)\n",
    "    X = normalize(X)\n",
    "\n",
    "    if len(X) < 1000: \n",
    "        continue\n",
    "    \n",
    "    scores = np.memmap(score_name, dtype=float, shape=(150), mode='w+')\n",
    "    scores_df = pd.DataFrame()\n",
    "        \n",
    "    ep_range = np.arange(0.01,1.0,0.01)\n",
    "    f_scores = []\n",
    "    \n",
    "    Parallel(n_jobs=cpuN)(delayed(computeClf)(X,Y,epsilon,scores)\n",
    "                   for epsilon in ep_range)\n",
    "    \n",
    "    for ep in ep_range:\n",
    "        idx = int(ep*100)\n",
    "        scores_df.loc[med,ep] = scores[idx]\n",
    "    \n",
    "    data_stats = []\n",
    "\n",
    "    data_stats.append( len(X) )\n",
    "    data_stats.append( len(np.unique(X,axis=0)) )\n",
    "    data_stats.append( np.mean(X) )\n",
    "    data_stats.append( np.std(X) )\n",
    "    data_stats.append( np.median(X) )\n",
    "    data_stats.append( np.percentile(X,25) )\n",
    "    data_stats.append( np.percentile(X,50) )\n",
    "    data_stats.append( np.percentile(X,75) )\n",
    "\n",
    "    data_stats.append( np.mean(X[:,0]) )\n",
    "    data_stats.append( np.std(X[:,0]) )\n",
    "    data_stats.append( np.median(X[:,0]) )\n",
    "    data_stats.append( np.percentile(X[:,0],25) )\n",
    "    data_stats.append( np.percentile(X[:,0],50) )\n",
    "    data_stats.append( np.percentile(X[:,0],75) )\n",
    "\n",
    "    data_stats.append( np.mean(X[:,1]) )\n",
    "    data_stats.append( np.std(X[:,1]) )\n",
    "    data_stats.append( np.median(X[:,1]) )\n",
    "    data_stats.append( np.percentile(X[:,1],25) )\n",
    "    data_stats.append( np.percentile(X[:,1],50) )\n",
    "    data_stats.append( np.percentile(X[:,1],75) )\n",
    "    \n",
    "    epsilon = scores_df.idxmax(1).values[0]\n",
    "    f1 = scores_df.max(1).values[0]\n",
    "    \n",
    "    \n",
    "    print(med,len(X),epsilon, f1)\n",
    "    \n",
    "    data_stats.append( epsilon )\n",
    "    \n",
    "    if f1 > .5:\n",
    "        reshape_data = pd.DataFrame( np.reshape(np.asarray(data_stats), (1,len(data_stats))  ) )\n",
    "        reshape_data['med'] = med\n",
    "        regression_data = regression_data.append( reshape_data )\n",
    "    \n",
    "regression_data.shape"
   ]
  },
  {
   "cell_type": "code",
   "execution_count": 89,
   "metadata": {},
   "outputs": [
    {
     "name": "stdout",
     "output_type": "stream",
     "text": [
      "Fitting 5 folds for each of 14 candidates, totalling 70 fits\n",
      "SVR(C=0.0078125, cache_size=200, coef0=0.0, degree=3, epsilon=0.1,\n",
      "  gamma='auto', kernel='rbf', max_iter=-1, shrinking=True, tol=0.001,\n",
      "  verbose=False)\n",
      "-0.0839501811594\n",
      "{'C': 0.0078125, 'kernel': 'rbf'}\n"
     ]
    },
    {
     "name": "stderr",
     "output_type": "stream",
     "text": [
      "[Parallel(n_jobs=3)]: Done  70 out of  70 | elapsed:    0.1s finished\n"
     ]
    }
   ],
   "source": [
    "from sklearn.svm import SVR, LinearSVR\n",
    "from sklearn.model_selection import GridSearchCV, cross_val_score\n",
    "\n",
    "target_id = 20\n",
    "data = regression_data.drop([target_id,'med'],1).values\n",
    "target = regression_data[target_id].values\n",
    "\n",
    "C_range = [2 ** i for i in range(-7, 7, 1)]\n",
    "parameters = {'kernel':['rbf'], 'C':C_range}\n",
    "grid_search = GridSearchCV(SVR(), parameters, cv=5, n_jobs=3, verbose=1, scoring='neg_mean_absolute_error')\n",
    "grid_search.fit(data, target)\n",
    "print(grid_search.best_estimator_)\n",
    "print(grid_search.best_score_)\n",
    "print(grid_search.best_params_)"
   ]
  },
  {
   "cell_type": "code",
   "execution_count": 124,
   "metadata": {},
   "outputs": [
    {
     "name": "stdout",
     "output_type": "stream",
     "text": [
      "-0.435634446751\n",
      "-0.0966584181345\n",
      "-49.3611575882\n",
      "-0.0883192187315\n",
      "-0.0851659312411\n",
      "-0.071496031746\n",
      "-0.0808009568304\n"
     ]
    }
   ],
   "source": [
    "from sklearn.linear_model import Ridge, LinearRegression, LogisticRegression, Lasso, BayesianRidge, LassoLars\n",
    "from sklearn.neural_network import MLPRegressor\n",
    "\n",
    "MLPR = MLPRegressor(activation='logistic', hidden_layer_sizes=(100) )\n",
    "\n",
    "scores = cross_val_score(LinearSVR(C=0.9), data, target, scoring='neg_mean_absolute_error')\n",
    "print(scores.mean())\n",
    "scores = cross_val_score(Ridge(), data, target, scoring='neg_mean_absolute_error')\n",
    "print(scores.mean())\n",
    "scores = cross_val_score(LinearRegression(), data, target, scoring='neg_mean_absolute_error')\n",
    "print(scores.mean())\n",
    "scores = cross_val_score(Lasso(), data, target, scoring='neg_mean_absolute_error')\n",
    "print(scores.mean())\n",
    "scores = cross_val_score(BayesianRidge(), data, target, scoring='neg_mean_absolute_error')\n",
    "print(scores.mean())\n",
    "scores = cross_val_score(LassoLars(), data, target, scoring='neg_mean_absolute_error')\n",
    "print(scores.mean())\n",
    "scores = cross_val_score(MLPR, data, target, scoring='neg_mean_absolute_error')\n",
    "print(scores.mean())"
   ]
  },
  {
   "cell_type": "code",
   "execution_count": 93,
   "metadata": {},
   "outputs": [
    {
     "name": "stdout",
     "output_type": "stream",
     "text": [
      "Fitting 5 folds for each of 190 candidates, totalling 950 fits\n",
      "LassoLars(alpha=0.10000000000000001, copy_X=True, eps=2.2204460492503131e-16,\n",
      "     fit_intercept=True, fit_path=True, max_iter=500, normalize=True,\n",
      "     positive=False, precompute='auto', verbose=False)\n",
      "-0.0720086448004\n",
      "{'alpha': 0.10000000000000001}\n"
     ]
    },
    {
     "name": "stderr",
     "output_type": "stream",
     "text": [
      "[Parallel(n_jobs=3)]: Done 950 out of 950 | elapsed:    0.4s finished\n"
     ]
    }
   ],
   "source": [
    "parameters = {'alpha':np.arange(0.1,2,0.01)}\n",
    "grid_search = GridSearchCV(LassoLars(), parameters, cv=5, n_jobs=3, verbose=1, scoring='neg_mean_absolute_error')\n",
    "grid_search.fit(data, target)\n",
    "print(grid_search.best_estimator_)\n",
    "print(grid_search.best_score_)\n",
    "print(grid_search.best_params_)"
   ]
  },
  {
   "cell_type": "code",
   "execution_count": 107,
   "metadata": {},
   "outputs": [
    {
     "data": {
      "text/plain": [
       "array([ 0.18,  0.08,  0.02,  0.05,  0.06,  0.28,  0.02,  0.06,  0.39,\n",
       "        0.03,  0.09,  0.04,  0.1 ,  0.18,  0.06,  0.02,  0.23,  0.05,\n",
       "        0.02,  0.03,  0.02,  0.14,  0.09])"
      ]
     },
     "execution_count": 107,
     "metadata": {},
     "output_type": "execute_result"
    }
   ],
   "source": [
    "target"
   ]
  },
  {
   "cell_type": "code",
   "execution_count": 106,
   "metadata": {},
   "outputs": [
    {
     "name": "stdout",
     "output_type": "stream",
     "text": [
      "[ 0.  0.  0.  0.  0.  0.  0.  0.  0.  0.  0.  0.  0.  0.  0.  0.  0.  0.\n",
      "  0.  0.]\n",
      "0.0973913043478\n"
     ]
    }
   ],
   "source": [
    "regr = LassoLars(alpha=0.1)\n",
    "regr.fit(data, target)\n",
    "print(regr.coef_)\n",
    "print(regr.intercept_)"
   ]
  },
  {
   "cell_type": "code",
   "execution_count": 95,
   "metadata": {},
   "outputs": [
    {
     "name": "stdout",
     "output_type": "stream",
     "text": [
      "Fitting 5 folds for each of 299 candidates, totalling 1495 fits\n",
      "LassoLars(alpha=0.01, copy_X=True, eps=2.2204460492503131e-16,\n",
      "     fit_intercept=True, fit_path=True, max_iter=500, normalize=True,\n",
      "     positive=False, precompute='auto', verbose=False)\n",
      "-0.0720086448004\n",
      "{'alpha': 0.01}\n"
     ]
    },
    {
     "name": "stderr",
     "output_type": "stream",
     "text": [
      "[Parallel(n_jobs=3)]: Done 1495 out of 1495 | elapsed:    0.5s finished\n"
     ]
    }
   ],
   "source": [
    "parameters = {'alpha':np.arange(0.01,3,0.01)}\n",
    "grid_search = GridSearchCV(LassoLars(), parameters, cv=5, n_jobs=3, verbose=1, scoring='neg_mean_absolute_error')\n",
    "#data_less = regression_data.drop([0,1,2,3,5,7,8,11,12,13,14,15],1).values\n",
    "## reduce dimensionality\n",
    "data_less = regression_data[[2]].values\n",
    "target = regression_data[20].values\n",
    "grid_search.fit(data_less, target)\n",
    "print(grid_search.best_estimator_)\n",
    "print(grid_search.best_score_)\n",
    "print(grid_search.best_params_)"
   ]
  },
  {
   "cell_type": "code",
   "execution_count": 128,
   "metadata": {},
   "outputs": [
    {
     "name": "stdout",
     "output_type": "stream",
     "text": [
      "[ 0.  0.  0.  0.  0.  0.  0.  0.  0.  0.  0.  0.  0.  0.  0.  0.  0.  0.\n",
      "  0.  0.]\n",
      "0.0973913043478\n"
     ]
    }
   ],
   "source": [
    "regr = LassoLars(alpha=0.1)\n",
    "regr.fit(data, target)\n",
    "print(regr.coef_)\n",
    "print(regr.intercept_)"
   ]
  },
  {
   "cell_type": "code",
   "execution_count": 98,
   "metadata": {},
   "outputs": [
    {
     "name": "stdout",
     "output_type": "stream",
     "text": [
      "[ 0.]\n",
      "---\n",
      "0.0973913043478\n"
     ]
    }
   ],
   "source": [
    "regr = LassoLars(alpha=0.1)\n",
    "regr.fit(data_less, target)\n",
    "print(regr.coef_)\n",
    "print('---')\n",
    "print(regr.intercept_)"
   ]
  },
  {
   "cell_type": "code",
   "execution_count": 125,
   "metadata": {},
   "outputs": [],
   "source": [
    "MLPR.fit(data, target)\n",
    "predicted_ep = MLPR.predict(data)"
   ]
  },
  {
   "cell_type": "code",
   "execution_count": 130,
   "metadata": {},
   "outputs": [],
   "source": [
    "predicted_ep = regr.predict(data)"
   ]
  },
  {
   "cell_type": "code",
   "execution_count": 131,
   "metadata": {
    "scrolled": false
   },
   "outputs": [
    {
     "name": "stdout",
     "output_type": "stream",
     "text": [
      "AMPICILINA + SULBACTAM 2 g + 1 g SOL INJ: Best: 0.18 0.761768901569 , Predicted:  0.0973913043478 0.0\n",
      "ANLODIPINO 10 mg CP: Best: 0.08 0.971014492754 , Predicted:  0.0973913043478 0.971014492754\n",
      "ANLODIPINO 5 mg CP: Best: 0.02 0.684931506849 , Predicted:  0.0973913043478 0.684931506849\n",
      "CEFEPIMA 2 g SOL INJ - SEM DILUENTE: Best: 0.05 0.647058823529 , Predicted:  0.0973913043478 0.647058823529\n",
      "CEFTRIAXONA 1g SOL INJ IV - SEM DILUENTE: Best: 0.06 0.0 , Predicted:  0.0973913043478 0.622222222222\n",
      "CLORETO DE POTASSIO 6 % (0,8 mEq/ml) SOL AQ C/ADOCANTE ARTIFICIAL - FR. 100 A 200 ml: Best: 0.28 0.604215456674 , Predicted:  0.0973913043478 0.20202020202\n",
      "DICLOFENACO 50 mg CP: Best: 0.02 0.903225806452 , Predicted:  0.0973913043478 0.193103448276\n",
      "DIPIRONA 1 g/2 ml SOL INJ: Best: 0.06 0.57730032695 , Predicted:  0.0973913043478 0.40873015873\n",
      "DIPIRONA 500 mg/ml SOL ORAL - com conta-gotas acoplado na tampa do frasco ou na embalagem do medicamento: Best: 0.39 0.556057494867 , Predicted:  0.0973913043478 0.0608108108108\n",
      "DOXAZOSINA 2 mg CP: Best: 0.03 0.826086956522 , Predicted:  0.0973913043478 0.447058823529\n",
      "ENOXAPARINA 80 mg/0,8 ml - SERINGA GRADUADA PRE-PREENCHIDA: Best: 0.09 0.835443037975 , Predicted:  0.0973913043478 0.835443037975\n",
      "FENITOINA 250 mg/5 ml SOL INJ: Best: 0.04 0.727272727273 , Predicted:  0.0973913043478 0.510638297872\n",
      "GLUCONATO DE CALCIO 10 % (0,465 mEq/ml) 10 ml SOL INJ: Best: 0.1 0.592592592593 , Predicted:  0.0973913043478 0.592592592593\n",
      "HIOSCINA (BUTILBROMETO DE ESCOPOLAMINA) 20 mg/ml SOL INJ: Best: 0.18 0.885043263288 , Predicted:  0.0973913043478 0.202586206897\n",
      "L-TIROXINA 100 mcg CP: Best: 0.06 0.146341463415 , Predicted:  0.0973913043478 0.42735042735\n",
      "LACTULOSE 667 mg/ml SOL ORAL: Best: 0.02 0.742268041237 , Predicted:  0.0973913043478 0.318181818182\n",
      "MORFINA 10 mg/ml SOL ORAL - com conta-gotas acoplado na tampa do frasco ou na embalagem do medicamento: Best: 0.23 0.577142857143 , Predicted:  0.0973913043478 0.224390243902\n",
      "OLEO MINERAL LIQ 100 ml: Best: 0.05 0.544169611307 , Predicted:  0.0973913043478 0.439436619718\n",
      "ONDANSETRONA 8 mg/4 ml SOL INJ IV: Best: 0.02 0.838709677419 , Predicted:  0.0973913043478 0.307692307692\n",
      "RIFAMPICINA + ISONIAZIDA + PIRAZINAMIDA + ETAMBUTOL 150 mg + 75 mg + 400 mg + 275 mg CP: Best: 0.03 0.814814814815 , Predicted:  0.0973913043478 0.814814814815\n",
      "TENOFOVIR 300mg + LAMIVUDINA 300mg CP: Best: 0.02 0.8 , Predicted:  0.0973913043478 0.410256410256\n",
      "VARFARINA 5 mg CP: Best: 0.14 0.94776119403 , Predicted:  0.0973913043478 0.433333333333\n",
      "VITAMINAS DO COMPLEXO B CP: Best: 0.09 0.669064748201 , Predicted:  0.0973913043478 0.669064748201\n"
     ]
    }
   ],
   "source": [
    "idx = 0\n",
    "best_scores = []\n",
    "predicted_scores = []\n",
    "for med in np.asarray(regression_data['med'].values):\n",
    "\n",
    "    X, Y = outliers.getPrescriptions(prescription, med)\n",
    "    X_norm = normalize(X)\n",
    "    \n",
    "    clf = ddc_outlier(alpha=target[idx],metric='jaccard')\n",
    "    clf.fit(X_norm)\n",
    "    y_pred = clf.predict(X_norm)\n",
    "    y_pred[y_pred == 1] = 0\n",
    "    y_pred[y_pred == -1] = 1\n",
    "    f = f1_score(y_pred, Y)\n",
    "    best_scores.append(f)\n",
    "    \n",
    "    clf = ddc_outlier(alpha=predicted_ep[idx],metric='jaccard')\n",
    "    clf.fit(X_norm)\n",
    "    y_pred = clf.predict(X_norm)\n",
    "    y_pred[y_pred == 1] = 0\n",
    "    y_pred[y_pred == -1] = 1\n",
    "    f = f1_score(y_pred, Y)\n",
    "    predicted_scores.append(f)\n",
    "    \n",
    "    print(med + ': Best:', \n",
    "          target[idx], \n",
    "          best_scores[idx], \n",
    "          ', Predicted: ',\n",
    "          predicted_ep[idx],\n",
    "          predicted_scores[idx])\n",
    "    \n",
    "    idx += 1\n",
    "    \n",
    "    #break"
   ]
  },
  {
   "cell_type": "code",
   "execution_count": 132,
   "metadata": {},
   "outputs": [
    {
     "name": "stdout",
     "output_type": "stream",
     "text": [
      "0.680534078037\n",
      "0.4531622325\n"
     ]
    }
   ],
   "source": [
    "#Original\n",
    "#0.680534078037\n",
    "\n",
    "#MLP\n",
    "#0.493819906432\n",
    "\n",
    "#Lars\n",
    "#0.4531622325\n",
    "\n",
    "print(np.mean(best_scores))\n",
    "print(np.mean(predicted_scores))"
   ]
  },
  {
   "cell_type": "code",
   "execution_count": null,
   "metadata": {},
   "outputs": [],
   "source": []
  }
 ],
 "metadata": {
  "kernelspec": {
   "display_name": "Python 3",
   "language": "python",
   "name": "python3"
  },
  "language_info": {
   "codemirror_mode": {
    "name": "ipython",
    "version": 3
   },
   "file_extension": ".py",
   "mimetype": "text/x-python",
   "name": "python",
   "nbconvert_exporter": "python",
   "pygments_lexer": "ipython3",
   "version": "3.5.3"
  }
 },
 "nbformat": 4,
 "nbformat_minor": 2
}
