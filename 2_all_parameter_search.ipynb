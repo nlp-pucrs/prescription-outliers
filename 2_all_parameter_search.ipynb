{
 "cells": [
  {
   "cell_type": "markdown",
   "metadata": {},
   "source": [
    "# Parameter Search\n",
    "For all algorithms and all medications in sample dataset\n",
    "\n",
    "We'll start with our standard set of initial imports"
   ]
  },
  {
   "cell_type": "code",
   "execution_count": 1,
   "metadata": {},
   "outputs": [],
   "source": [
    "import outliers\n",
    "import numpy as np\n",
    "import pandas as pd\n",
    "import warnings\n",
    "warnings.filterwarnings('ignore')\n",
    "\n",
    "prescription = pd.read_csv('data/prescriptions_sample.csv.gz', compression='gzip')"
   ]
  },
  {
   "cell_type": "markdown",
   "metadata": {},
   "source": [
    "## Total number of medications"
   ]
  },
  {
   "cell_type": "code",
   "execution_count": 2,
   "metadata": {},
   "outputs": [
    {
     "data": {
      "text/plain": [
       "21"
      ]
     },
     "execution_count": 2,
     "metadata": {},
     "output_type": "execute_result"
    }
   ],
   "source": [
    "medications = outliers.getOverdoseMedications(prescription)\n",
    "len(medications)"
   ]
  },
  {
   "cell_type": "markdown",
   "metadata": {},
   "source": [
    "## Parameter Search Method\n",
    "\n",
    "Method defined in outliers.py\n",
    "- This method get all medications in array and run all epsilon parameter in all algorithms\n",
    "- For each medication it print the best parameter for each algorithm"
   ]
  },
  {
   "cell_type": "code",
   "execution_count": 3,
   "metadata": {},
   "outputs": [
    {
     "name": "stdout",
     "output_type": "stream",
     "text": [
      "ALOPURINOL, 4729, 12, , (DDC-H+0.01), 0.0, , (Gau+0.01), 0.0159045725646, , (IsoF+0.01), 0.154838709677, , (DDC-C+0.48), 0.533333333333, , (SVM+0.02), 0.151898734177, , (DDC-J+0.04), 0.393442622951, , (DDC+0.91), 0.292682926829, , (LOF+0.06), 0.06, , (Cov+0.23), 0.888888888889, \n",
      "AMPICILINA, 7226, 267, , (DDC-H+0.87), 0.7365356623, , (Gau+0.17), 0.948490230906, , (IsoF+0.03), 0.729106628242, , (DDC-C+0.68), 0.0440251572327, , (SVM+0.06), 0.754237288136, , (DDC-J+0.25), 0.754237288136, , (DDC+0.92), 0.948490230906, , (LOF+0.01), 1.0, , (Cov+0.13), 0.485604606526, \n",
      "ANLODIPINO, 10392, 38, , (DDC-H+0.89), 0.0134907251265, , (Gau+0.02), 0.121212121212, , (IsoF+0.01), 0.0787671232877, , (DDC-C+0.6), 0.376811594203, , (SVM+0.13), 0.121212121212, , (DDC-J+0.02), 0.730769230769, , (DDC+0.92), 0.883720930233, , (LOF+0.01), 0.00728667305849, , (Cov+0.01), 0.0, \n",
      "BISACODIL, 9483, 11, , (DDC-H+0.93), 0.0326894502229, , (Gau+0.01), 0.0124153498871, , (IsoF+0.01), 0.0512820512821, , (DDC-C+0.45), 0.428571428571, , (SVM+0.14), 0.0181968569065, , (DDC-J+0.01), 0.533333333333, , (DDC+0.93), 0.372881355932, , (LOF+0.01), 0.0445859872611, , (Cov+0.01), 0.0, \n",
      "CETOPROFENO, 10907, 45, , (DDC-H+0.84), 0.90243902439, , (Gau+0.01), 0.0694444444444, , (IsoF+0.02), 0.172043010753, , (DDC-C+0.46), 0.388059701493, , (SVM+0.06), 0.191489361702, , (DDC-J+0.04), 0.697674418605, , (DDC+0.91), 0.697674418605, , (LOF+0.04), 0.12893982808, , (Cov+0.01), 0.0, \n",
      "CLORETO, 5593, 145, , (DDC-H+0.93), 0.591422121896, , (Gau+0.58), 0.255957634598, , (IsoF+0.04), 0.755208333333, , (DDC-C+0.49), 0.418772563177, , (SVM+0.01), 0.651741293532, , (DDC-J+0.37), 0.626349892009, , (DDC+0.97), 0.626349892009, , (LOF+0.01), 0.75, , (Cov+0.1), 0.668202764977, \n",
      "DIAZEPAM, 9030, 52, , (DDC-H+0.9), 0.093984962406, , (Gau+0.01), 0.266666666667, , (IsoF+0.01), 0.407843137255, , (DDC-C+0.53), 0.676923076923, , (SVM+0.02), 0.274509803922, , (DDC-J+0.05), 0.759124087591, , (DDC+0.92), 0.28729281768, , (LOF+0.08), 0.117381489842, , (Cov+0.62), 0.352059925094, \n",
      "DICLOFENACO, 5559, 14, , (DDC-H+0.94), 0.128440366972, , (Gau+0.01), 0.444444444444, , (IsoF+0.05), 0.0918032786885, , (DDC-C+0.51), 0.148936170213, , (SVM+0.02), 0.125560538117, , (DDC-J+0.02), 0.848484848485, , (DDC+0.91), 0.193103448276, , (LOF+0.01), 0.193103448276, , (Cov+0.01), 0.848484848485, \n",
      "DOXAZOSINA, 6280, 19, , (DDC-H+0.88), 0.0831509846827, , (Gau+0.03), 0.358490566038, , (IsoF+0.01), 0.387755102041, , (DDC-C+0.01), 0.0, , (SVM+0.08), 0.072380952381, , (DDC-J+0.03), 0.703703703704, , (DDC+0.88), 0.844444444444, , (LOF+0.01), 0.441860465116, , (Cov+0.01), 0.358490566038, \n",
      "ENALAPRIL, 9585, 78, , (DDC-H+0.86), 0.852941176471, , (Gau+0.97), 0.325, , (IsoF+0.04), 0.317991631799, , (DDC-C+0.8), 0.863309352518, , (SVM+0.02), 0.968944099379, , (DDC-J+0.05), 0.968944099379, , (DDC+0.91), 0.597701149425, , (LOF+0.01), 0.483333333333, , (Cov+0.01), 0.828571428571, \n",
      "ENOXAPARINA, 7666, 30, , (DDC-H+0.83), 0.545454545455, , (Gau+0.01), 0.322580645161, , (IsoF+0.01), 0.535714285714, , (DDC-C+0.83), 0.612244897959, , (SVM+0.03), 0.00867052023121, , (DDC-J+0.07), 0.41958041958, , (DDC+0.91), 0.322580645161, , (LOF+0.01), 0.535714285714, , (Cov+0.03), 0.322580645161, \n",
      "HIDRALAZINA, 6056, 214, , (DDC-H+0.99), 0.241126760563, , (Gau+0.01), 0.338875692795, , (IsoF+0.05), 0.612804878049, , (DDC-C+0.58), 0.741020793951, , (SVM+0.03), 0.66253869969, , (DDC-J+0.49), 0.632200886263, , (DDC+0.95), 0.632200886263, , (LOF+0.05), 0.654434250765, , (Cov+0.23), 0.333333333333, \n",
      "LOPERAMIDA, 4957, 329, , (DDC-H+0.97), 0.0531914893617, , (Gau+0.03), 0.307333021952, , (IsoF+0.04), 0.862385321101, , (DDC-C+0.54), 0.276762402089, , (SVM+0.24), 0.419375398343, , (DDC-J+0.82), 0.691903259727, , (DDC+0.96), 0.304093567251, , (LOF+0.07), 0.912981455064, , (Cov+0.08), 0.92286115007, \n",
      "MORFINA, 5362, 122, , (DDC-H+0.83), 0.568578553616, , (Gau+0.54), 0.186872586873, , (IsoF+0.02), 0.610878661088, , (DDC-C+0.9), 0.15087040619, , (SVM+0.21), 0.178362573099, , (DDC-J+0.38), 0.410084033613, , (DDC+0.94), 0.40380952381, , (LOF+0.2), 0.193817878028, , (Cov+0.03), 0.966101694915, \n",
      "PARACETAMOL, 10811, 25, , (DDC-H+0.93), 0.0728862973761, , (Gau+0.02), 0.0932835820896, , (IsoF+0.04), 0.0996015936255, , (DDC-C+0.46), 0.925925925926, , (SVM+0.09), 0.0372856077554, , (DDC-J+0.09), 0.279329608939, , (DDC+0.91), 0.316455696203, , (LOF+0.05), 0.0705467372134, , (Cov+0.01), 0.381679389313, \n",
      "POLIMIXINA, 7257, 439, , (DDC-H+0.98), 0.814953271028, , (Gau+0.01), 0.0, , (IsoF+0.08), 0.718621821165, , (DDC-C+0.63), 0.685402029664, , (SVM+0.04), 0.768949771689, , (DDC-J+0.69), 0.368522072937, , (DDC+0.97), 0.368522072937, , (LOF+0.09), 0.681148176881, , (Cov+0.06), 0.637069922309, \n",
      "RISPERIDONA, 5431, 12, , (DDC-H+0.94), 0.0475247524752, , (Gau+0.02), 0.0207075064711, , (IsoF+0.02), 0.16, , (DDC-C+0.82), 0.0330123796424, , (SVM+0.09), 0.0497925311203, , (DDC-J+0.04), 0.510638297872, , (DDC+0.92), 0.266666666667, , (LOF+0.14), 0.0231213872832, , (Cov+0.01), 1.0, \n",
      "SULFAMETOXAZOL, 7086, 122, , (DDC-H+0.92), 0.132971506106, , (Gau+0.01), 0.632124352332, , (IsoF+0.02), 0.792207792208, , (DDC-C+0.49), 0.995884773663, , (SVM+0.06), 0.274774774775, , (DDC-J+0.14), 0.600985221675, , (DDC+0.92), 0.600985221675, , (LOF+0.09), 0.300995024876, , (Cov+0.01), 0.0, \n",
      "TENOFOVIR, 4518, 16, , (DDC-H+0.92), 0.344827586207, , (Gau+0.01), 0.149253731343, , (IsoF+0.02), 0.00705778561976, , (DDC-C+0.43), 0.814814814815, , (SVM+0.01), 0.00705778561976, , (DDC-J+0.02), 0.8, , (DDC+0.95), 0.410256410256, , (LOF+0.01), 0.149253731343, , (Cov+0.01), 0.344827586207, \n",
      "VARFARINA, 6419, 127, , (DDC-H+0.86), 0.94776119403, , (Gau+0.21), 0.984496124031, , (IsoF+0.01), 0.923728813559, , (DDC-C+0.69), 0.368055555556, , (SVM+0.06), 0.204508856683, , (DDC-J+0.17), 0.933823529412, , (DDC+0.93), 0.933823529412, , (LOF+0.02), 0.980694980695, , (Cov+0.02), 1.0, \n",
      "VITAMINAS, 5766, 185, , (DDC-H+0.95), 1.0, , (Gau+0.02), 0.415178571429, , (IsoF+0.02), 1.0, , (DDC-C+0.57), 1.0, , (SVM+0.05), 1.0, , (DDC-J+0.1), 1.0, , (DDC+0.94), 0.685185185185, , (LOF+0.05), 0.685185185185, , (Cov+0.07), 0.685185185185, \n"
     ]
    }
   ],
   "source": [
    "ep_range = np.arange(0.01,1.0,0.01)\n",
    "results = outliers.runParameterSearch(prescription, np.asarray(medications), ep_range)"
   ]
  },
  {
   "cell_type": "markdown",
   "metadata": {},
   "source": [
    "## Final Table Result\n",
    "\n",
    "Here we show the mean result for each algorithm"
   ]
  },
  {
   "cell_type": "code",
   "execution_count": 4,
   "metadata": {},
   "outputs": [
    {
     "data": {
      "text/html": [
       "<div>\n",
       "<style>\n",
       "    .dataframe thead tr:only-child th {\n",
       "        text-align: right;\n",
       "    }\n",
       "\n",
       "    .dataframe thead th {\n",
       "        text-align: left;\n",
       "    }\n",
       "\n",
       "    .dataframe tbody tr th {\n",
       "        vertical-align: top;\n",
       "    }\n",
       "</style>\n",
       "<table border=\"1\" class=\"dataframe\">\n",
       "  <thead>\n",
       "    <tr style=\"text-align: right;\">\n",
       "      <th></th>\n",
       "      <th>Time</th>\n",
       "      <th>Accuracy</th>\n",
       "      <th>Recall</th>\n",
       "      <th>Precision</th>\n",
       "      <th>F-Measure</th>\n",
       "    </tr>\n",
       "  </thead>\n",
       "  <tbody>\n",
       "    <tr>\n",
       "      <th>DDC-H</th>\n",
       "      <td>0.057571</td>\n",
       "      <td>0.949810</td>\n",
       "      <td>0.748599</td>\n",
       "      <td>0.348078</td>\n",
       "      <td>0.390684</td>\n",
       "    </tr>\n",
       "    <tr>\n",
       "      <th>Gau</th>\n",
       "      <td>0.014000</td>\n",
       "      <td>0.862761</td>\n",
       "      <td>0.895572</td>\n",
       "      <td>0.220913</td>\n",
       "      <td>0.298511</td>\n",
       "    </tr>\n",
       "    <tr>\n",
       "      <th>IsoF</th>\n",
       "      <td>0.439762</td>\n",
       "      <td>0.928993</td>\n",
       "      <td>0.913015</td>\n",
       "      <td>0.368848</td>\n",
       "      <td>0.450935</td>\n",
       "    </tr>\n",
       "    <tr>\n",
       "      <th>DDC-C</th>\n",
       "      <td>0.108381</td>\n",
       "      <td>0.964550</td>\n",
       "      <td>0.719013</td>\n",
       "      <td>0.519122</td>\n",
       "      <td>0.499178</td>\n",
       "    </tr>\n",
       "    <tr>\n",
       "      <th>SVM</th>\n",
       "      <td>0.208619</td>\n",
       "      <td>0.846274</td>\n",
       "      <td>0.977882</td>\n",
       "      <td>0.258077</td>\n",
       "      <td>0.330547</td>\n",
       "    </tr>\n",
       "    <tr>\n",
       "      <th>DDC-J</th>\n",
       "      <td>0.037190</td>\n",
       "      <td>0.981512</td>\n",
       "      <td>0.942904</td>\n",
       "      <td>0.550442</td>\n",
       "      <td>0.650625</td>\n",
       "    </tr>\n",
       "    <tr>\n",
       "      <th>DDC</th>\n",
       "      <td>0.053571</td>\n",
       "      <td>0.976980</td>\n",
       "      <td>0.930633</td>\n",
       "      <td>0.409709</td>\n",
       "      <td>0.523282</td>\n",
       "    </tr>\n",
       "    <tr>\n",
       "      <th>LOF</th>\n",
       "      <td>1.070143</td>\n",
       "      <td>0.907025</td>\n",
       "      <td>0.905130</td>\n",
       "      <td>0.337216</td>\n",
       "      <td>0.400685</td>\n",
       "    </tr>\n",
       "    <tr>\n",
       "      <th>Cov</th>\n",
       "      <td>0.385524</td>\n",
       "      <td>0.790926</td>\n",
       "      <td>0.737890</td>\n",
       "      <td>0.464256</td>\n",
       "      <td>0.524950</td>\n",
       "    </tr>\n",
       "  </tbody>\n",
       "</table>\n",
       "</div>"
      ],
      "text/plain": [
       "           Time  Accuracy    Recall  Precision  F-Measure\n",
       "DDC-H  0.057571  0.949810  0.748599   0.348078   0.390684\n",
       "Gau    0.014000  0.862761  0.895572   0.220913   0.298511\n",
       "IsoF   0.439762  0.928993  0.913015   0.368848   0.450935\n",
       "DDC-C  0.108381  0.964550  0.719013   0.519122   0.499178\n",
       "SVM    0.208619  0.846274  0.977882   0.258077   0.330547\n",
       "DDC-J  0.037190  0.981512  0.942904   0.550442   0.650625\n",
       "DDC    0.053571  0.976980  0.930633   0.409709   0.523282\n",
       "LOF    1.070143  0.907025  0.905130   0.337216   0.400685\n",
       "Cov    0.385524  0.790926  0.737890   0.464256   0.524950"
      ]
     },
     "metadata": {},
     "output_type": "display_data"
    }
   ],
   "source": [
    "display(results)"
   ]
  }
 ],
 "metadata": {
  "kernelspec": {
   "display_name": "Python 3",
   "language": "python",
   "name": "python3"
  },
  "language_info": {
   "codemirror_mode": {
    "name": "ipython",
    "version": 3
   },
   "file_extension": ".py",
   "mimetype": "text/x-python",
   "name": "python",
   "nbconvert_exporter": "python",
   "pygments_lexer": "ipython3",
   "version": "3.5.3"
  }
 },
 "nbformat": 4,
 "nbformat_minor": 2
}
