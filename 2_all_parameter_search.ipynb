{
 "cells": [
  {
   "cell_type": "markdown",
   "metadata": {},
   "source": [
    "# Parameter Search\n",
    "For all algorithms and all medications in sample dataset\n",
    "\n",
    "We'll start with our standard set of initial imports"
   ]
  },
  {
   "cell_type": "code",
   "execution_count": 1,
   "metadata": {
    "collapsed": true,
    "deletable": true,
    "editable": true
   },
   "outputs": [],
   "source": [
    "import outliers\n",
    "import numpy as np\n",
    "import pandas as pd\n",
    "import warnings\n",
    "warnings.filterwarnings('ignore')\n",
    "\n",
    "prescription = pd.read_csv('data/prescriptions_sample.csv.gz', compression='gzip')"
   ]
  },
  {
   "cell_type": "markdown",
   "metadata": {},
   "source": [
    "## Total number of medications"
   ]
  },
  {
   "cell_type": "code",
   "execution_count": 2,
   "metadata": {
    "collapsed": false,
    "deletable": true,
    "editable": true
   },
   "outputs": [
    {
     "data": {
      "text/plain": [
       "21"
      ]
     },
     "execution_count": 2,
     "metadata": {},
     "output_type": "execute_result"
    }
   ],
   "source": [
    "medications = outliers.getOverdoseMedications(prescription)\n",
    "len(medications)"
   ]
  },
  {
   "cell_type": "markdown",
   "metadata": {},
   "source": [
    "## Parameter Search Method\n",
    "\n",
    "Method defined in outliers.py\n",
    "- This method get all medications in array and run all epsilon parameter in all algorithms\n",
    "- For each medication it print the best parameter for each algorithm"
   ]
  },
  {
   "cell_type": "code",
   "execution_count": 3,
   "metadata": {
    "collapsed": false,
    "deletable": true,
    "editable": true
   },
   "outputs": [
    {
     "name": "stdout",
     "output_type": "stream",
     "text": [
      "ALOPURINOL, 4729, 12, , (DDC-M+0.92), 0.0591133004926, , (DDC-C+0.48), 0.533333333333, , (SVM+0.02), 0.151898734177, , (DDC-H+0.01), 0.0, , (DDC-J+0.04), 0.393442622951, , (IsoF+0.01), 0.154838709677, , (LOF+0.06), 0.06, , (Cov+0.09), 0.705882352941, , (Gau+0.04), 0.0159045725646, \n",
      "AMPICILINA, 7226, 267, , (DDC-M+0.01), 0.0, , (DDC-C+0.68), 0.0440251572327, , (SVM+0.06), 0.754237288136, , (DDC-H+0.87), 0.7365356623, , (DDC-J+0.25), 0.754237288136, , (IsoF+0.03), 0.729106628242, , (LOF+0.01), 1.0, , (Cov+0.15), 0.485604606526, , (Gau+0.01), 0.754237288136, \n",
      "ANLODIPINO, 10392, 38, , (DDC-M+0.84), 0.366197183099, , (DDC-C+0.6), 0.376811594203, , (SVM+0.13), 0.121212121212, , (DDC-H+0.89), 0.0134907251265, , (DDC-J+0.02), 0.730769230769, , (IsoF+0.01), 0.0787671232877, , (LOF+0.01), 0.00728667305849, , (Cov+0.01), 0.0, , (Gau+0.02), 0.121212121212, \n",
      "BISACODIL, 9483, 11, , (DDC-M+0.95), 0.0114090131204, , (DDC-C+0.45), 0.428571428571, , (SVM+0.14), 0.0181968569065, , (DDC-H+0.93), 0.0326894502229, , (DDC-J+0.01), 0.533333333333, , (IsoF+0.01), 0.0512820512821, , (LOF+0.01), 0.0445859872611, , (Cov+0.1), 0.0323054331865, , (Gau+0.01), 0.0124153498871, \n",
      "CETOPROFENO, 10907, 45, , (DDC-M+0.62), 0.90243902439, , (DDC-C+0.46), 0.388059701493, , (SVM+0.06), 0.191489361702, , (DDC-H+0.84), 0.90243902439, , (DDC-J+0.04), 0.697674418605, , (IsoF+0.02), 0.172043010753, , (LOF+0.04), 0.12893982808, , (Cov+0.01), 0.0, , (Gau+0.01), 0.0694444444444, \n",
      "CLORETO, 5593, 145, , (DDC-M+0.88), 0.16338028169, , (DDC-C+0.49), 0.418772563177, , (SVM+0.01), 0.651741293532, , (DDC-H+0.93), 0.591422121896, , (DDC-J+0.37), 0.626349892009, , (IsoF+0.04), 0.755208333333, , (LOF+0.01), 0.75, , (Cov+0.07), 0.583501006036, , (Gau+0.59), 0.255957634598, \n",
      "DIAZEPAM, 9030, 52, , (DDC-M+0.66), 0.512820512821, , (DDC-C+0.53), 0.676923076923, , (SVM+0.02), 0.274509803922, , (DDC-H+0.9), 0.093984962406, , (DDC-J+0.05), 0.759124087591, , (IsoF+0.02), 0.407843137255, , (LOF+0.08), 0.117381489842, , (Cov+0.02), 0.502673796791, , (Gau+0.01), 0.266666666667, \n",
      "DICLOFENACO, 5559, 14, , (DDC-M+0.97), 0.147368421053, , (DDC-C+0.51), 0.148936170213, , (SVM+0.02), 0.125560538117, , (DDC-H+0.94), 0.128440366972, , (DDC-J+0.02), 0.848484848485, , (IsoF+0.05), 0.0918032786885, , (LOF+0.01), 0.193103448276, , (Cov+0.02), 0.848484848485, , (Gau+0.01), 0.444444444444, \n",
      "DOXAZOSINA, 6280, 19, , (DDC-M+0.01), 0.0, , (DDC-C+0.01), 0.0, , (SVM+0.08), 0.072380952381, , (DDC-H+0.88), 0.0831509846827, , (DDC-J+0.03), 0.703703703704, , (IsoF+0.01), 0.387755102041, , (LOF+0.01), 0.441860465116, , (Cov+0.01), 0.716981132075, , (Gau+0.02), 0.358490566038, \n",
      "ENALAPRIL, 9585, 78, , (DDC-M+0.6), 0.05, , (DDC-C+0.8), 0.863309352518, , (SVM+0.02), 0.968944099379, , (DDC-H+0.86), 0.852941176471, , (DDC-J+0.05), 0.968944099379, , (IsoF+0.04), 0.317991631799, , (LOF+0.01), 0.483333333333, , (Cov+0.11), 0.493827160494, , (Gau+0.97), 0.325, \n",
      "ENOXAPARINA, 7666, 30, , (DDC-M+0.01), 0.0, , (DDC-C+0.83), 0.612244897959, , (SVM+0.03), 0.00867052023121, , (DDC-H+0.83), 0.545454545455, , (DDC-J+0.07), 0.41958041958, , (IsoF+0.01), 0.545454545455, , (LOF+0.01), 0.535714285714, , (Cov+0.43), 0.322580645161, , (Gau+0.01), 0.322580645161, \n",
      "HIDRALAZINA, 6056, 214, , (DDC-M+0.85), 0.695035460993, , (DDC-C+0.58), 0.741020793951, , (SVM+0.03), 0.66253869969, , (DDC-H+0.99), 0.241126760563, , (DDC-J+0.49), 0.632200886263, , (IsoF+0.07), 0.63976083707, , (LOF+0.05), 0.654434250765, , (Cov+0.3), 0.241126760563, , (Gau+0.01), 0.338875692795, \n",
      "LOPERAMIDA, 4957, 329, , (DDC-M+0.84), 0.0996240601504, , (DDC-C+0.54), 0.276762402089, , (SVM+0.24), 0.419375398343, , (DDC-H+0.97), 0.0531914893617, , (DDC-J+0.82), 0.691903259727, , (IsoF+0.04), 0.862385321101, , (LOF+0.07), 0.912981455064, , (Cov+0.08), 0.92286115007, , (Gau+0.05), 0.528514056225, \n",
      "MORFINA, 5362, 122, , (DDC-M+0.99), 0.061935483871, , (DDC-C+0.9), 0.15087040619, , (SVM+0.21), 0.178362573099, , (DDC-H+0.83), 0.568578553616, , (DDC-J+0.38), 0.410084033613, , (IsoF+0.02), 0.621848739496, , (LOF+0.2), 0.193817878028, , (Cov+0.03), 0.966101694915, , (Gau+0.63), 0.186872586873, \n",
      "PARACETAMOL, 10811, 25, , (DDC-M+0.01), 0.0, , (DDC-C+0.46), 0.925925925926, , (SVM+0.09), 0.0372856077554, , (DDC-H+0.93), 0.0728862973761, , (DDC-J+0.09), 0.279329608939, , (IsoF+0.04), 0.105708245243, , (LOF+0.05), 0.0705467372134, , (Cov+0.01), 0.390625, , (Gau+0.01), 0.0932835820896, \n",
      "POLIMIXINA, 7257, 439, , (DDC-M+0.83), 0.875631951466, , (DDC-C+0.63), 0.685402029664, , (SVM+0.04), 0.768949771689, , (DDC-H+0.98), 0.814953271028, , (DDC-J+0.69), 0.368522072937, , (IsoF+0.09), 0.718621821165, , (LOF+0.09), 0.681148176881, , (Cov+0.06), 0.637069922309, , (Gau+0.01), 0.0, \n",
      "RISPERIDONA, 5431, 12, , (DDC-M+0.01), 0.0, , (DDC-C+0.82), 0.0330123796424, , (SVM+0.09), 0.0497925311203, , (DDC-H+0.94), 0.0475247524752, , (DDC-J+0.04), 0.510638297872, , (IsoF+0.02), 0.15, , (LOF+0.14), 0.0231213872832, , (Cov+0.02), 1.0, , (Gau+0.08), 0.0207075064711, \n",
      "SULFAMETOXAZOL, 7086, 122, , (DDC-M+0.99), 0.275943396226, , (DDC-C+0.49), 0.995884773663, , (SVM+0.06), 0.274774774775, , (DDC-H+0.92), 0.132971506106, , (DDC-J+0.14), 0.600985221675, , (IsoF+0.01), 0.956862745098, , (LOF+0.09), 0.300995024876, , (Cov+0.83), 0.757763975155, , (Gau+0.01), 0.632124352332, \n",
      "TENOFOVIR, 4518, 16, , (DDC-M+0.59), 0.814814814815, , (DDC-C+0.43), 0.814814814815, , (SVM+0.01), 0.00705778561976, , (DDC-H+0.92), 0.344827586207, , (DDC-J+0.02), 0.8, , (IsoF+0.02), 0.00705778561976, , (LOF+0.01), 0.149253731343, , (Cov+0.01), 0.344827586207, , (Gau+0.01), 0.149253731343, \n",
      "VARFARINA, 6419, 127, , (DDC-M+0.67), 0.370629370629, , (DDC-C+0.69), 0.368055555556, , (SVM+0.06), 0.204508856683, , (DDC-H+0.86), 0.94776119403, , (DDC-J+0.17), 0.933823529412, , (IsoF+0.01), 0.923728813559, , (LOF+0.02), 0.980694980695, , (Cov+0.02), 1.0, , (Gau+0.26), 0.984496124031, \n",
      "VITAMINAS, 5766, 185, , (DDC-M+0.82), 0.664259927798, , (DDC-C+0.57), 1.0, , (SVM+0.05), 1.0, , (DDC-H+0.95), 1.0, , (DDC-J+0.1), 1.0, , (IsoF+0.02), 1.0, , (LOF+0.05), 0.685185185185, , (Cov+0.07), 0.685185185185, , (Gau+0.02), 0.415178571429, \n"
     ]
    }
   ],
   "source": [
    "ep_range = np.arange(0.01,1.0,0.01)\n",
    "results = outliers.runParameterSearch(prescription, np.asarray(medications), ep_range)"
   ]
  },
  {
   "cell_type": "markdown",
   "metadata": {},
   "source": [
    "## Final Table Result\n",
    "\n",
    "Here we show the mean result for each algorithm"
   ]
  },
  {
   "cell_type": "code",
   "execution_count": 4,
   "metadata": {
    "collapsed": false,
    "deletable": true,
    "editable": true
   },
   "outputs": [
    {
     "data": {
      "text/html": [
       "<div>\n",
       "<style>\n",
       "    .dataframe thead tr:only-child th {\n",
       "        text-align: right;\n",
       "    }\n",
       "\n",
       "    .dataframe thead th {\n",
       "        text-align: left;\n",
       "    }\n",
       "\n",
       "    .dataframe tbody tr th {\n",
       "        vertical-align: top;\n",
       "    }\n",
       "</style>\n",
       "<table border=\"1\" class=\"dataframe\">\n",
       "  <thead>\n",
       "    <tr style=\"text-align: right;\">\n",
       "      <th></th>\n",
       "      <th>Time</th>\n",
       "      <th>Accuracy</th>\n",
       "      <th>Recall</th>\n",
       "      <th>Precision</th>\n",
       "      <th>F-Measure</th>\n",
       "    </tr>\n",
       "  </thead>\n",
       "  <tbody>\n",
       "    <tr>\n",
       "      <th>DDC-M</th>\n",
       "      <td>0.063190</td>\n",
       "      <td>0.945989</td>\n",
       "      <td>0.491376</td>\n",
       "      <td>0.344472</td>\n",
       "      <td>0.289076</td>\n",
       "    </tr>\n",
       "    <tr>\n",
       "      <th>DDC-C</th>\n",
       "      <td>0.108952</td>\n",
       "      <td>0.964550</td>\n",
       "      <td>0.719013</td>\n",
       "      <td>0.519122</td>\n",
       "      <td>0.499178</td>\n",
       "    </tr>\n",
       "    <tr>\n",
       "      <th>SVM</th>\n",
       "      <td>0.207143</td>\n",
       "      <td>0.846274</td>\n",
       "      <td>0.977882</td>\n",
       "      <td>0.258077</td>\n",
       "      <td>0.330547</td>\n",
       "    </tr>\n",
       "    <tr>\n",
       "      <th>DDC-H</th>\n",
       "      <td>0.057762</td>\n",
       "      <td>0.949810</td>\n",
       "      <td>0.748599</td>\n",
       "      <td>0.348078</td>\n",
       "      <td>0.390684</td>\n",
       "    </tr>\n",
       "    <tr>\n",
       "      <th>DDC-J</th>\n",
       "      <td>0.036857</td>\n",
       "      <td>0.981512</td>\n",
       "      <td>0.942904</td>\n",
       "      <td>0.550442</td>\n",
       "      <td>0.650625</td>\n",
       "    </tr>\n",
       "    <tr>\n",
       "      <th>IsoF</th>\n",
       "      <td>0.436429</td>\n",
       "      <td>0.929531</td>\n",
       "      <td>0.916298</td>\n",
       "      <td>0.383020</td>\n",
       "      <td>0.460860</td>\n",
       "    </tr>\n",
       "    <tr>\n",
       "      <th>LOF</th>\n",
       "      <td>1.064905</td>\n",
       "      <td>0.907025</td>\n",
       "      <td>0.905130</td>\n",
       "      <td>0.337216</td>\n",
       "      <td>0.400685</td>\n",
       "    </tr>\n",
       "    <tr>\n",
       "      <th>Cov</th>\n",
       "      <td>0.383143</td>\n",
       "      <td>0.878208</td>\n",
       "      <td>0.834349</td>\n",
       "      <td>0.470169</td>\n",
       "      <td>0.554162</td>\n",
       "    </tr>\n",
       "    <tr>\n",
       "      <th>Gau</th>\n",
       "      <td>0.013000</td>\n",
       "      <td>0.870413</td>\n",
       "      <td>0.895572</td>\n",
       "      <td>0.215247</td>\n",
       "      <td>0.299793</td>\n",
       "    </tr>\n",
       "  </tbody>\n",
       "</table>\n",
       "</div>"
      ],
      "text/plain": [
       "           Time  Accuracy    Recall  Precision  F-Measure\n",
       "DDC-M  0.063190  0.945989  0.491376   0.344472   0.289076\n",
       "DDC-C  0.108952  0.964550  0.719013   0.519122   0.499178\n",
       "SVM    0.207143  0.846274  0.977882   0.258077   0.330547\n",
       "DDC-H  0.057762  0.949810  0.748599   0.348078   0.390684\n",
       "DDC-J  0.036857  0.981512  0.942904   0.550442   0.650625\n",
       "IsoF   0.436429  0.929531  0.916298   0.383020   0.460860\n",
       "LOF    1.064905  0.907025  0.905130   0.337216   0.400685\n",
       "Cov    0.383143  0.878208  0.834349   0.470169   0.554162\n",
       "Gau    0.013000  0.870413  0.895572   0.215247   0.299793"
      ]
     },
     "metadata": {},
     "output_type": "display_data"
    }
   ],
   "source": [
    "display(results)"
   ]
  }
 ],
 "metadata": {
  "kernelspec": {
   "display_name": "Python 3",
   "language": "python",
   "name": "python3"
  },
  "language_info": {
   "codemirror_mode": {
    "name": "ipython",
    "version": 3
   },
   "file_extension": ".py",
   "mimetype": "text/x-python",
   "name": "python",
   "nbconvert_exporter": "python",
   "pygments_lexer": "ipython3",
   "version": "3.5.2"
  }
 },
 "nbformat": 4,
 "nbformat_minor": 2
}
