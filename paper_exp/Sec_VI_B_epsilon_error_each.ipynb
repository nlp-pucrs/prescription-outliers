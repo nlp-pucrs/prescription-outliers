{
 "cells": [
  {
   "cell_type": "code",
   "execution_count": 17,
   "metadata": {
    "collapsed": true,
    "deletable": true,
    "editable": true
   },
   "outputs": [],
   "source": [
    "%matplotlib inline\n",
    "\n",
    "import sys\n",
    "import time\n",
    "import math\n",
    "import outliers\n",
    "import numpy as np\n",
    "import pandas as pd\n",
    "import matplotlib.pyplot as plt\n",
    "from sklearn.model_selection import StratifiedKFold\n",
    "from sklearn.metrics import f1_score\n",
    "from sklearn.covariance import EllipticEnvelope\n",
    "from sklearn.ensemble import IsolationForest\n",
    "from sklearn.neighbors import LocalOutlierFactor\n",
    "from sklearn.mixture import GaussianMixture\n",
    "from sklearn import svm\n",
    "\n",
    "import multiprocessing\n",
    "import tempfile\n",
    "import os\n",
    "from joblib import Parallel, delayed\n",
    "from joblib.pool import has_shareable_memory\n",
    "cpuN = multiprocessing.cpu_count()\n",
    "\n",
    "import warnings\n",
    "warnings.filterwarnings('ignore')\n",
    "\n",
    "prescription = pd.read_csv('data/prescriptions2017_clean.csv.gz', compression='gzip')\n",
    "algos = pd.read_csv('data/algorithms.csv.gz', compression='gzip')"
   ]
  },
  {
   "cell_type": "code",
   "execution_count": 18,
   "metadata": {
    "collapsed": false,
    "deletable": true,
    "editable": true
   },
   "outputs": [
    {
     "name": "stdout",
     "output_type": "stream",
     "text": [
      "Index(['MEDICAMENTO', 'Size', 'Out', '%', 'Types', 'Clust', 'Mean', 'Std',\n",
      "       'Med', 'P25', 'P50', 'P75', 'D-Mean', 'D-Std', 'D-Med', 'D-P25',\n",
      "       'D-P50', 'D-P75', 'F-Mean', 'F-Std', 'F-Med', 'F-P25', 'F-P50', 'F-P75',\n",
      "       'p1', 'DDC-H', 'p2', 'IsoF', 'p3', 'DDC-J', 'p4', 'Cov', 'p5', 'SVM',\n",
      "       'p6', 'DDC-M', 'p7', 'DDC-C', 'p8', 'LOF', 'p9', 'Gau', 'Max', 'Avg',\n",
      "       'Best'],\n",
      "      dtype='object')\n"
     ]
    }
   ],
   "source": [
    "print(algos.columns)"
   ]
  },
  {
   "cell_type": "code",
   "execution_count": 19,
   "metadata": {
    "collapsed": false,
    "deletable": true,
    "editable": true
   },
   "outputs": [
    {
     "data": {
      "text/plain": [
       "10"
      ]
     },
     "execution_count": 19,
     "metadata": {},
     "output_type": "execute_result"
    }
   ],
   "source": [
    "method = 'Cov'\n",
    "algos = pd.read_csv('data/algorithms.csv.gz', compression='gzip')\n",
    "algos = algos[algos['Size']>5000]\n",
    "algos = algos.sort_values(method,ascending=False).head(10)\n",
    "medications = algos['MEDICAMENTO'].values\n",
    "len(medications)"
   ]
  },
  {
   "cell_type": "code",
   "execution_count": 27,
   "metadata": {
    "collapsed": true,
    "deletable": true,
    "editable": true
   },
   "outputs": [],
   "source": [
    "def computeClf(X,Y,epsilon,scores):\n",
    "    \n",
    "    #if True:\n",
    "    try:\n",
    "        #clf = svm.OneClassSVM(nu=epsilon, gamma=4)\n",
    "        #clf = outliers.ddc_outlier(alpha=epsilon,metric='jaccard')\n",
    "        #clf = outliers.ddc_outlier(alpha=epsilon,metric='cosine')\n",
    "        clf = EllipticEnvelope(contamination=epsilon)\n",
    "        #clf = LocalOutlierFactor(n_neighbors=500, contamination=epsilon)\n",
    "        #clf = outliers.GaussianMixtureOutlier(alpha=epsilon)\n",
    "        #clf = IsolationForest(contamination=epsilon)\n",
    "        clf.fit(X)\n",
    "        y_pred = clf.predict(X)\n",
    "        #y_pred = clf.fit_predict(X)\n",
    "\n",
    "        y_pred[y_pred == 1] = 0\n",
    "        y_pred[y_pred == -1] = 1\n",
    "\n",
    "        f = f1_score(y_pred, Y)\n",
    "        scores[int(epsilon*100)] = f\n",
    "    except:\n",
    "        scores[int(epsilon*100)] = 0\n",
    "    \n",
    "    #sys.stdout.write(' '+ str(int(epsilon*100)) + '='+ str(round(f,2)) +', ')"
   ]
  },
  {
   "cell_type": "code",
   "execution_count": 28,
   "metadata": {
    "collapsed": false,
    "deletable": true,
    "editable": true,
    "scrolled": false
   },
   "outputs": [
    {
     "name": "stdout",
     "output_type": "stream",
     "text": [
      "VARFARINA 5 mg CP, Size:  6419  Overdose:  127\n",
      "20/1020, (0.01,0.0) 40/2040, (0.02,1.0) 59/3009, (0.02,1.0) 79/4019, (0.02,1.0) 99/5019, (0.02,1.0) 119/6019, (0.02,1.0) \n",
      "RISPERIDONA 2 mg CP, Size:  5431  Overdose:  12\n",
      "3/1359, (0.05,0.0923076923077) 5/2265, (0.19,0.027027027027) 7/3171, (0.01,1.0) 9/4075, (0.01,1.0) 12/5431, (0.01,1.0) \n",
      "ANLODIPINO 10 mg CP, Size:  15584  Overdose:  268\n",
      "17/1003, (0.01,0.0) 34/2006, (0.22,1.0) 52/3056, (0.09,0.033462033462) 69/4042, (0.01,0.0) 86/5028, (0.01,0.0) 103/6014, (0.05,1.0) 120/7000, (0.21,1.0) 138/8044, (0.1,1.0) 155/9030, (0.05,1.0) 172/10016, (0.05,1.0) \n",
      "TRAMADOL 50mg/ml 1ml SOL INJ, Size:  21006  Overdose:  43\n",
      "3/1467, (0.01,0.352941176471) 5/2445, (0.01,1.0) 7/3423, (0.02,0.237288135593) 9/4401, (0.01,0.391304347826) 11/5379, (0.01,0.423076923077) 13/6357, (0.01,0.433333333333) 15/7335, (0.01,0.361445783133) 17/8313, (0.01,0.386363636364) 19/9291, (0.01,0.408602150538) 21/10269, (0.01,0.432989690722) \n",
      "MORFINA 10 mg/ml SOL ORAL - com conta-gotas acoplado na tampa do frasco ou na embalagem do medicamento, Size:  5362  Overdose:  122\n",
      "23/1012, (0.02,0.909090909091) 46/2024, (0.03,1.0) 69/3036, (0.03,1.0) 91/4004, (0.02,0.879518072289) 114/5016, (0.03,0.991150442478) \n",
      "DICLOFENACO 50 mg CP, Size:  5559  Overdose:  14\n",
      "3/1192, (0.46,0.857142857143) 6/2383, (0.01,0.8) 8/3177, (0.01,0.842105263158) 11/4368, (0.01,0.846153846154) 13/5162, (0.01,0.838709677419) \n",
      "ENALAPRIL 20 mg CP, Size:  9585  Overdose:  78\n",
      "9/1107, (0.01,0.0) 17/2091, (0.21,0.739130434783) 25/3075, (0.38,0.625) 33/4059, (0.13,0.568965517241) 41/5043, (0.23,0.434210526316) 49/6027, (0.03,0.550561797753) 57/7011, (0.08,0.477777777778) 66/8118, (0.04,0.474885844749) 74/9097, (0.01,0.852941176471) \n",
      "SULFAMETOXAZOL + TRIMETOPRIMA 800 mg + 160 mg CP, Size:  7086  Overdose:  122\n",
      "18/1054, (0.26,0.25) 35/2040, (0.01,0.0) 52/3026, (0.38,0.8125) 69/4012, (0.14,0.811764705882) 87/5056, (0.37,0.776785714286) 104/6042, (0.01,0.0) 121/7028, (0.03,0.75625) \n",
      "OLEO MINERAL LIQ 100 ml, Size:  11930  Overdose:  161\n",
      "14/1050, (0.01,0.666666666667) 27/2014, (0.02,0.677419354839) 41/3050, (0.02,0.609756097561) 54/4012, (0.02,0.824427480916) 68/5048, (0.02,0.844720496894) 81/6010, (0.03,0.866310160428) 95/7046, (0.02,0.883720930233) 108/8008, (0.02,0.885245901639) 122/9044, (0.03,0.880866425993) 135/10006, (0.02,0.828220858896) \n",
      "HIOSCINA (BUTILBROMETO DE ESCOPOLAMINA) 20 mg/ml SOL INJ, Size:  22067  Overdose:  747\n",
      "34/1020, (0.01,0.0) 67/2010, (0.01,0.0) 100/3000, (0.01,0.0) 134/4020, (0.01,0.0) 167/5010, (0.49,0.770909090909) 200/6000, (0.39,0.810495626822) 234/7020, (0.01,0.0) 267/8010, (0.08,0.767543859649) 300/9000, (0.44,0.765625) 334/10020, (0.29,0.738738738739) \n",
      "Done\n"
     ]
    }
   ],
   "source": [
    "folder = tempfile.mkdtemp()\n",
    "score_name = os.path.join(folder, 'score')\n",
    "\n",
    "time_m = []\n",
    "\n",
    "error_list = np.append([], [])\n",
    "fscore_list = np.append([], [])\n",
    "\n",
    "for med in np.asarray(medications): \n",
    "\n",
    "    X, Y = outliers.getPrescriptions(prescription, med)\n",
    "    anomalies = len(Y[Y==1])\n",
    "    total = len(X)\n",
    "    \n",
    "    if total < 2000:\n",
    "        continue\n",
    "    \n",
    "    print(med + ', Size: ', total, ' Overdose: ', anomalies)\n",
    "    \n",
    "    \n",
    "    mean_ep = pd.DataFrame()\n",
    "    mean_f = pd.DataFrame()\n",
    "    index_list = np.append([], [])\n",
    "    skf = StratifiedKFold(n_splits=anomalies)\n",
    "    div = 1\n",
    "    for train_index, test_index in skf.split(X, Y):\n",
    "        \n",
    "        scores_df = pd.DataFrame()\n",
    "        \n",
    "        index_list = np.append(index_list.astype(int), test_index.astype(int))\n",
    "        size = len(index_list)\n",
    "        \n",
    "        X_train = X[index_list]\n",
    "        Y_train = Y[index_list]\n",
    "        overdose_size = len(Y_train[Y_train==1])\n",
    "        \n",
    "        if (size // 1000) < div:\n",
    "            continue\n",
    "            \n",
    "        size_idx = div * 1000\n",
    "        div = 1 + (size // 1000)\n",
    "        \n",
    "        sys.stdout.write(str(overdose_size) + '/' + str(size) +', ')\n",
    "        \n",
    "        scores = np.memmap(score_name, dtype=float,\n",
    "                     shape=(150), mode='w+')\n",
    "        ep_range = np.arange(0.01,0.5,0.01)\n",
    "        \n",
    "        start = time.time()\n",
    "        \n",
    "        Parallel(n_jobs=1)(delayed(computeClf)(X_train,Y_train,epsilon,scores)\n",
    "                   for epsilon in ep_range)\n",
    "        \n",
    "        for ep in ep_range:\n",
    "            idx = int(ep*100)\n",
    "            scores_df.loc[med,ep] = scores[idx]\n",
    "        \n",
    "        end = time.time()\n",
    "        time_total = end - start\n",
    "        \n",
    "        time_m.append(time_total)\n",
    "        \n",
    "        ep_max = scores_df.loc[med].idxmax()\n",
    "        mean_ep.loc[med,size_idx] = float(ep_max)\n",
    "        mean_f.loc[med,size_idx] = scores_df.loc[med].max()\n",
    "        \n",
    "        sys.stdout.write('('  + str(ep_max) + ',' + str(scores_df.loc[med].max()) +') ')\n",
    "        \n",
    "        if size > 10000:\n",
    "            break\n",
    "\n",
    "    print('')\n",
    "    error = np.subtract(mean_ep.loc[med].values[:-1], mean_ep.loc[med].values[1:])\n",
    "    fscore = np.subtract(mean_f.loc[med].values[:-1], mean_f.loc[med].values[1:])\n",
    "    error_list = np.append(error_list, error)\n",
    "    fscore_list = np.append(fscore_list, fscore)\n",
    "\n",
    "print('Done')"
   ]
  },
  {
   "cell_type": "code",
   "execution_count": 29,
   "metadata": {
    "collapsed": false,
    "deletable": true,
    "editable": true
   },
   "outputs": [
    {
     "name": "stdout",
     "output_type": "stream",
     "text": [
      "Cov  =  0.085 0.125 0.213 0.333 15.883\n"
     ]
    }
   ],
   "source": [
    "#         err_m err_s f1_m  f1_s  time_m\n",
    "# IsoF =  0.006 0.010 0.061 0.078  5.71\n",
    "# DDC-J=  0.007 0.013 0.056 0.084  1.22\n",
    "# DDC-H=  0.013 0.022 0.081 0.142  1.56\n",
    "# DDC-C=  0.026 0.055 0.081 0.167  3.46\n",
    "# LOF  =  0.032 0.095 0.111 0.205 10.37\n",
    "# Gau  =  0.038 0.106 0.059 0.091  1.57\n",
    "# SVM  =  0.046 0.053 0.164 0.160 14.88\n",
    "# DDC-M=  0.081 0.223 0.084 0.165  2.45\n",
    "# Cov  =  0.085 0.125 0.213 0.333 15.88\n",
    "# DDC  =  0.003 0.006 0.062 0.13 1.507\n",
    "\n",
    "\n",
    "error_mean = np.mean(np.abs(error_list))\n",
    "error_std = np.std(np.abs(error_list))\n",
    "fscore_mean = np.mean(np.abs(fscore_list))\n",
    "fscore_std = np.std(np.abs(fscore_list))\n",
    "print(method , ' = ', round(error_mean,3), round(error_std,3), \n",
    "                    round(fscore_mean,3), round(fscore_std,3), round(np.mean(time_m),3))"
   ]
  },
  {
   "cell_type": "code",
   "execution_count": null,
   "metadata": {
    "collapsed": true,
    "deletable": true,
    "editable": true
   },
   "outputs": [],
   "source": []
  }
 ],
 "metadata": {
  "kernelspec": {
   "display_name": "Python 3",
   "language": "python",
   "name": "python3"
  },
  "language_info": {
   "codemirror_mode": {
    "name": "ipython",
    "version": 3
   },
   "file_extension": ".py",
   "mimetype": "text/x-python",
   "name": "python",
   "nbconvert_exporter": "python",
   "pygments_lexer": "ipython3",
   "version": "3.5.2"
  }
 },
 "nbformat": 4,
 "nbformat_minor": 2
}
