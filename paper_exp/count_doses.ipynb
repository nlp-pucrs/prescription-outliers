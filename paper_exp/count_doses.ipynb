{
 "cells": [
  {
   "cell_type": "code",
   "execution_count": 5,
   "metadata": {},
   "outputs": [],
   "source": [
    "%matplotlib inline\n",
    "\n",
    "import pandas as pd\n",
    "import outliers\n",
    "\n",
    "prescription = pd.read_csv('../data/prescriptions_subdose.csv.gz', compression='gzip')"
   ]
  },
  {
   "cell_type": "code",
   "execution_count": 11,
   "metadata": {},
   "outputs": [],
   "source": [
    "def target(x): \n",
    "    dose = x['freq_dia'] * x['dose_conv']\n",
    "    if dose > x['overdose']:\n",
    "        return 1\n",
    "    elif dose < x['subdose']:\n",
    "        return 2\n",
    "    else:\n",
    "        return 0\n",
    "    \n",
    "prescription['target'] = prescription.apply(target,axis=1)"
   ]
  },
  {
   "cell_type": "code",
   "execution_count": 12,
   "metadata": {},
   "outputs": [
    {
     "data": {
      "text/plain": [
       "(74,)"
      ]
     },
     "execution_count": 12,
     "metadata": {},
     "output_type": "execute_result"
    }
   ],
   "source": [
    "medications = outliers.getOverdoseMedications(prescription)\n",
    "medications.shape"
   ]
  },
  {
   "cell_type": "code",
   "execution_count": 13,
   "metadata": {},
   "outputs": [
    {
     "name": "stdout",
     "output_type": "stream",
     "text": [
      "overdose:  6666\n",
      "underdose:  4868\n",
      "regular:  551637\n"
     ]
    }
   ],
   "source": [
    "overdose = 0\n",
    "underdose = 0\n",
    "regular = 0\n",
    "\n",
    "for med in medications:\n",
    "    X, Y = outliers.getPrescriptions(prescription, med)\n",
    "    if len(X) < 1000: \n",
    "        continue\n",
    "        \n",
    "    overdose += len(Y[Y==1])\n",
    "    underdose += len(Y[Y==2])\n",
    "    regular += len(Y[Y==0])\n",
    "    \n",
    "print('overdose: ', overdose)\n",
    "print('underdose: ', underdose)\n",
    "print('regular: ', regular)"
   ]
  },
  {
   "cell_type": "code",
   "execution_count": null,
   "metadata": {},
   "outputs": [],
   "source": []
  }
 ],
 "metadata": {
  "kernelspec": {
   "display_name": "Python 3",
   "language": "python",
   "name": "python3"
  },
  "language_info": {
   "codemirror_mode": {
    "name": "ipython",
    "version": 3
   },
   "file_extension": ".py",
   "mimetype": "text/x-python",
   "name": "python",
   "nbconvert_exporter": "python",
   "pygments_lexer": "ipython3",
   "version": "3.5.2"
  }
 },
 "nbformat": 4,
 "nbformat_minor": 2
}
